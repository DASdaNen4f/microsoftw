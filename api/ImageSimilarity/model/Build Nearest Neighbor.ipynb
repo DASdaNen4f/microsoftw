{
 "cells": [
  {
   "cell_type": "markdown",
   "metadata": {},
   "source": [
    "# Build the Annoy Index for Image Similarity\n",
    "\n",
    "This notebook will do the following:\n",
    "    - This notebook will do the following:\n",
    "    - Load the featurized images from .pkl file\n",
    "    - Add each image to a new AnnoyIndex\n",
    "    - Save the index to the provided filename\n",
    " \n",
    "To create a nearest neighbor model we use the Annoy Package:https://pypi.org/project/annoy/"
   ]
  },
  {
   "cell_type": "code",
   "execution_count": null,
   "metadata": {},
   "outputs": [],
   "source": [
    "import pickle\n",
    "import numpy as np\n",
    "import pandas as pd\n",
    "from PIL import Image, ImageFile\n",
    "from keras.applications.resnet50 import ResNet50\n",
    "from keras.applications.resnet50 import preprocess_input\n",
    "from annoy import AnnoyIndex\n"
   ]
  },
  {
   "cell_type": "markdown",
   "metadata": {},
   "source": [
    "# Define Constants"
   ]
  },
  {
   "cell_type": "code",
   "execution_count": null,
   "metadata": {},
   "outputs": [],
   "source": [
    "#model parameters\n",
    "n_trees = 10000 #number of trees to use in the model\n",
    "\n",
    "#Filepath for saving the model\n",
    "annoy_fn = '/mnt/met-results/met_10k.annoy'\n",
    "\n",
    "\n",
    "#Filepath to featurized images & helper files\n",
    "features_fn = '/mnt/met-results/features.pkl'\n",
    "ids_fn = '/mnt/met-results/ids.pkl'\n",
    "\n",
    "#check that the file paths have been updated\n",
    "assert n_trees > 0, 'Number of trees must be greater than 0'\n",
    "assert annoy_fn != '', 'Please provide a filepath to save the Annoy modle. Example: /model/annoyIndex.ann'\n",
    "assert features_fn != '', 'Please provide the file path to your pre-processed images. Example: /data/preprocessed_images.pkl'\n",
    "assert ids_fn != '', 'Please provide the file path to your pre-processed images. Example: /data/preprocessed_images.pkl'"
   ]
  },
  {
   "cell_type": "markdown",
   "metadata": {},
   "source": [
    "# Load Data"
   ]
  },
  {
   "cell_type": "code",
   "execution_count": null,
   "metadata": {},
   "outputs": [],
   "source": [
    "features = pickle.load(open(features_fn,'rb'))\n",
    "ids = pickle.load(open(ids_fn,'rb'))\n",
    "print(features.shape)\n",
    "print(len(ids))\n",
    "assert(len(ids) == features.shape[0])"
   ]
  },
  {
   "cell_type": "markdown",
   "metadata": {},
   "source": [
    "# Build the Annoy Index"
   ]
  },
  {
   "cell_type": "code",
   "execution_count": null,
   "metadata": {},
   "outputs": [],
   "source": [
    "ai = AnnoyIndex(features.shape[1], metric='angular')\n",
    "for i in range(features.shape[0]):\n",
    "    v = features[i,:] #get vector to add\n",
    "    ai.add_item(i,v) #add to index\n",
    "    \n",
    "ai.build(n_trees)  \n",
    "ai.save(annoy_fn)"
   ]
  },
  {
   "cell_type": "code",
   "execution_count": null,
   "metadata": {},
   "outputs": [],
   "source": []
  }
 ],
 "metadata": {
  "kernelspec": {
   "display_name": "Python [default]",
   "language": "python",
   "name": "python3"
  },
  "language_info": {
   "codemirror_mode": {
    "name": "ipython",
    "version": 3
   },
   "file_extension": ".py",
   "mimetype": "text/x-python",
   "name": "python",
   "nbconvert_exporter": "python",
   "pygments_lexer": "ipython3",
   "version": "3.5.5"
  }
 },
 "nbformat": 4,
 "nbformat_minor": 2
}
