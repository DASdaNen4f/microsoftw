{
 "cells": [
  {
   "cell_type": "code",
   "execution_count": 61,
   "metadata": {},
   "outputs": [],
   "source": [
    "import numpy as np\n",
    "import pandas as pd\n",
    "import os\n",
    "import socket\n",
    "\n",
    "tags = pd.read_csv('MetTaggingData12_7_2018.csv')\n",
    "#data_all = np.array(tags)\n",
    "#targets_int = list(map(int, data_all[:,0]))\n",
    "# tags = pd.read_csv('C:\\\\Users\\\\chrhoder\\\\data\\\\tags.csv')\n",
    "# targets_np = np.array(targets)\n",
    "# targets_int = list(map(int, targets_np[:,0]))\n",
    "# dog_pics = np.where(np.in1d(targets_int, tags[tags.Tags=='Dogs'].ObjectID.values))"
   ]
  },
  {
   "cell_type": "code",
   "execution_count": 62,
   "metadata": {
    "scrolled": true
   },
   "outputs": [
    {
     "data": {
      "text/plain": [
       "'[  34 1439 2134 2348 2392]'"
      ]
     },
     "execution_count": 62,
     "metadata": {},
     "output_type": "execute_result"
    }
   ],
   "source": [
    "#generate object IDs by category\n",
    "boats = tags[tags.Tags == 'Boats'].ObjectID.values\n",
    "str(boats[:5])"
   ]
  },
  {
   "cell_type": "code",
   "execution_count": 58,
   "metadata": {},
   "outputs": [],
   "source": [
    "inputCategory = \"Boats\" \n",
    "numIDs = 9\n",
    "result_type = \"first\" #curated, random\n",
    "\n",
    "def getIDsbyCategory(category, numIDs, result_type):\n",
    "    ids = tags[tags.Tags == category].ObjectID.values\n",
    "    if result_type == \"first\":\n",
    "        return ids[:numIDs]\n",
    "    elif result_type == \"curated\":\n",
    "        pass\n",
    "    else: #random\n",
    "        pass\n"
   ]
  },
  {
   "cell_type": "code",
   "execution_count": 59,
   "metadata": {},
   "outputs": [
    {
     "data": {
      "text/plain": [
       "array([  34, 1439, 2134, 2348, 2392, 2393, 2552, 3110, 3297], dtype=int64)"
      ]
     },
     "execution_count": 59,
     "metadata": {},
     "output_type": "execute_result"
    }
   ],
   "source": [
    "getIDsbyCategory(inputCategory, numIDs, result_type)"
   ]
  },
  {
   "cell_type": "code",
   "execution_count": null,
   "metadata": {},
   "outputs": [],
   "source": []
  }
 ],
 "metadata": {
  "kernelspec": {
   "display_name": "Python 3",
   "language": "python",
   "name": "python3"
  },
  "language_info": {
   "codemirror_mode": {
    "name": "ipython",
    "version": 3
   },
   "file_extension": ".py",
   "mimetype": "text/x-python",
   "name": "python",
   "nbconvert_exporter": "python",
   "pygments_lexer": "ipython3",
   "version": "3.6.5"
  }
 },
 "nbformat": 4,
 "nbformat_minor": 2
}
